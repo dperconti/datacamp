{
 "cells": [
  {
   "cell_type": "markdown",
   "metadata": {},
   "source": [
    "In previous exercises, we have preloaded the data for you using the pandas function `read_csv()`. Now, it's your turn! Your job is to read the World Bank population data you saw earlier into a DataFrame using `read_csv()`. The file has been downloaded as `world_population.csv`.\n",
    "\n",
    "The next step is to reread the same file, but simultaneously rename the columns using the `names` keyword input parameter, set equal to a list of new column labels. You will also need to set `header=0` to rename the column labels.\n",
    "\n",
    "Finish up by inspecting the result with `df.head()` and `df.info()` in the IPython Shell.\n",
    "\n",
    "`pandas` has already been imported and is available in the workspace as `pd`."
   ]
  },
  {
   "cell_type": "code",
   "execution_count": 1,
   "metadata": {},
   "outputs": [],
   "source": [
    "import pandas as pd"
   ]
  },
  {
   "cell_type": "code",
   "execution_count": 4,
   "metadata": {},
   "outputs": [],
   "source": [
    "FILE_LOCATION = \"./world_population.csv\""
   ]
  },
  {
   "cell_type": "code",
   "execution_count": 5,
   "metadata": {},
   "outputs": [],
   "source": [
    "# Read in the file: df1\n",
    "df1 = pd.read_csv(FILE_LOCATION)"
   ]
  },
  {
   "cell_type": "code",
   "execution_count": 6,
   "metadata": {},
   "outputs": [],
   "source": [
    "new_labels = ['year', 'population']"
   ]
  },
  {
   "cell_type": "code",
   "execution_count": 7,
   "metadata": {},
   "outputs": [],
   "source": [
    "df2 = pd.read_csv(FILE_LOCATION, header=0, names=new_labels)"
   ]
  },
  {
   "cell_type": "code",
   "execution_count": 8,
   "metadata": {},
   "outputs": [
    {
     "name": "stdout",
     "output_type": "stream",
     "text": [
      "       1818  01  01.1  1818.004   -1  1\n",
      "0      1818   1     2  1818.007   -1  1\n",
      "1      1818   1     3  1818.010   -1  1\n",
      "2      1818   1     4  1818.012   -1  1\n",
      "3      1818   1     5  1818.015   -1  1\n",
      "4      1818   1     6  1818.018   -1  1\n",
      "5      1818   1     7  1818.021   -1  1\n",
      "6      1818   1     8  1818.023   39  1\n",
      "7      1818   1     9  1818.026   -1  1\n",
      "8      1818   1    10  1818.029   -1  1\n",
      "9      1818   1    11  1818.031   -1  1\n",
      "10     1818   1    12  1818.034   -1  1\n",
      "11     1818   1    13  1818.037   22  1\n",
      "12     1818   1    14  1818.040   -1  1\n",
      "13     1818   1    15  1818.042   -1  1\n",
      "14     1818   1    16  1818.045   -1  1\n",
      "15     1818   1    17  1818.048   46  1\n",
      "16     1818   1    18  1818.051   59  1\n",
      "17     1818   1    19  1818.053   63  1\n",
      "18     1818   1    20  1818.056   -1  1\n",
      "19     1818   1    21  1818.059   -1  1\n",
      "20     1818   1    22  1818.062   -1  1\n",
      "21     1818   1    23  1818.064   -1  1\n",
      "22     1818   1    24  1818.067   -1  1\n",
      "23     1818   1    25  1818.070   15  1\n",
      "24     1818   1    26  1818.073   -1  1\n",
      "25     1818   1    27  1818.075   -1  1\n",
      "26     1818   1    28  1818.078   23  1\n",
      "27     1818   1    29  1818.081   12  1\n",
      "28     1818   1    30  1818.083   -1  1\n",
      "29     1818   1    31  1818.086   -1  1\n",
      "...     ...  ..   ...       ...  ... ..\n",
      "72073  2015   5     2  2015.332   24  0\n",
      "72074  2015   5     3  2015.335   28  0\n",
      "72075  2015   5     4  2015.337   68  0\n",
      "72076  2015   5     5  2015.340   68  0\n",
      "72077  2015   5     6  2015.343   82  0\n",
      "72078  2015   5     7  2015.346   95  0\n",
      "72079  2015   5     8  2015.348  101  0\n",
      "72080  2015   5     9  2015.351   92  0\n",
      "72081  2015   5    10  2015.354  107  0\n",
      "72082  2015   5    11  2015.357  109  0\n",
      "72083  2015   5    12  2015.359  112  0\n",
      "72084  2015   5    13  2015.362  113  0\n",
      "72085  2015   5    14  2015.365  109  0\n",
      "72086  2015   5    15  2015.368   83  0\n",
      "72087  2015   5    16  2015.370   69  0\n",
      "72088  2015   5    17  2015.373   59  0\n",
      "72089  2015   5    18  2015.376   66  0\n",
      "72090  2015   5    19  2015.379   51  0\n",
      "72091  2015   5    20  2015.381   39  0\n",
      "72092  2015   5    21  2015.384   33  0\n",
      "72093  2015   5    22  2015.387   48  0\n",
      "72094  2015   5    23  2015.389   48  0\n",
      "72095  2015   5    24  2015.392   52  0\n",
      "72096  2015   5    25  2015.395   45  0\n",
      "72097  2015   5    26  2015.398   35  0\n",
      "72098  2015   5    27  2015.400    9  0\n",
      "72099  2015   5    28  2015.403    8  0\n",
      "72100  2015   5    29  2015.406   22  0\n",
      "72101  2015   5    30  2015.409   19  0\n",
      "72102  2015   5    31  2015.411   17  0\n",
      "\n",
      "[72103 rows x 6 columns]\n",
      "                    year  population\n",
      "1818 1 2  1818.007    -1           1\n",
      "       3  1818.010    -1           1\n",
      "       4  1818.012    -1           1\n",
      "       5  1818.015    -1           1\n",
      "       6  1818.018    -1           1\n",
      "       7  1818.021    -1           1\n",
      "       8  1818.023    39           1\n",
      "       9  1818.026    -1           1\n",
      "       10 1818.029    -1           1\n",
      "       11 1818.031    -1           1\n",
      "       12 1818.034    -1           1\n",
      "       13 1818.037    22           1\n",
      "       14 1818.040    -1           1\n",
      "       15 1818.042    -1           1\n",
      "       16 1818.045    -1           1\n",
      "       17 1818.048    46           1\n",
      "       18 1818.051    59           1\n",
      "       19 1818.053    63           1\n",
      "       20 1818.056    -1           1\n",
      "       21 1818.059    -1           1\n",
      "       22 1818.062    -1           1\n",
      "       23 1818.064    -1           1\n",
      "       24 1818.067    -1           1\n",
      "       25 1818.070    15           1\n",
      "       26 1818.073    -1           1\n",
      "       27 1818.075    -1           1\n",
      "       28 1818.078    23           1\n",
      "       29 1818.081    12           1\n",
      "       30 1818.083    -1           1\n",
      "       31 1818.086    -1           1\n",
      "...                  ...         ...\n",
      "2015 5 2  2015.332    24           0\n",
      "       3  2015.335    28           0\n",
      "       4  2015.337    68           0\n",
      "       5  2015.340    68           0\n",
      "       6  2015.343    82           0\n",
      "       7  2015.346    95           0\n",
      "       8  2015.348   101           0\n",
      "       9  2015.351    92           0\n",
      "       10 2015.354   107           0\n",
      "       11 2015.357   109           0\n",
      "       12 2015.359   112           0\n",
      "       13 2015.362   113           0\n",
      "       14 2015.365   109           0\n",
      "       15 2015.368    83           0\n",
      "       16 2015.370    69           0\n",
      "       17 2015.373    59           0\n",
      "       18 2015.376    66           0\n",
      "       19 2015.379    51           0\n",
      "       20 2015.381    39           0\n",
      "       21 2015.384    33           0\n",
      "       22 2015.387    48           0\n",
      "       23 2015.389    48           0\n",
      "       24 2015.392    52           0\n",
      "       25 2015.395    45           0\n",
      "       26 2015.398    35           0\n",
      "       27 2015.400     9           0\n",
      "       28 2015.403     8           0\n",
      "       29 2015.406    22           0\n",
      "       30 2015.409    19           0\n",
      "       31 2015.411    17           0\n",
      "\n",
      "[72103 rows x 2 columns]\n"
     ]
    }
   ],
   "source": [
    "print(df1)\n",
    "print(df2)"
   ]
  },
  {
   "cell_type": "code",
   "execution_count": null,
   "metadata": {},
   "outputs": [],
   "source": []
  }
 ],
 "metadata": {
  "kernelspec": {
   "display_name": "Python 2",
   "language": "python",
   "name": "python2"
  },
  "language_info": {
   "codemirror_mode": {
    "name": "ipython",
    "version": 2
   },
   "file_extension": ".py",
   "mimetype": "text/x-python",
   "name": "python",
   "nbconvert_exporter": "python",
   "pygments_lexer": "ipython2",
   "version": "2.7.10"
  }
 },
 "nbformat": 4,
 "nbformat_minor": 2
}
