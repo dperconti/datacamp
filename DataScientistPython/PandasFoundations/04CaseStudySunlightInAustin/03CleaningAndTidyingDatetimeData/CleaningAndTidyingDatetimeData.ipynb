{
 "cells": [
  {
   "cell_type": "markdown",
   "metadata": {},
   "source": [
    "# Cleaning and tidying datetime data\n",
    "\n",
    "In order to use the full power of pandas time series, you must construct a `DatetimeIndex`. To do so, it is necessary to clean and transform the date and time columns.\n",
    "\n",
    "The DataFrame `df_dropped` you created in the last exercise is provided for you and pandas has been imported as `pd`.\n",
    "\n",
    "Your job is to clean up the `date` and `Time` columns and combine them into a datetime collection to be used as the Index."
   ]
  },
  {
   "cell_type": "code",
   "execution_count": 3,
   "metadata": {},
   "outputs": [],
   "source": [
    "# Import pandas\n",
    "import pandas as pd\n",
    "\n",
    "\n",
    "# Read in the data file: df\n",
    "df_dropped = pd.read_csv('data.csv')"
   ]
  },
  {
   "cell_type": "code",
   "execution_count": 4,
   "metadata": {},
   "outputs": [
    {
     "name": "stdout",
     "output_type": "stream",
     "text": [
      "                     Unnamed: 0   Wban      date  Time  StationType  \\\n",
      "2011-01-01 01:53:00           0  13904  20110101  0153           12   \n",
      "2011-01-01 02:53:00           1  13904  20110101  0253           12   \n",
      "2011-01-01 03:53:00           2  13904  20110101  0353           12   \n",
      "2011-01-01 04:53:00           3  13904  20110101  0453           12   \n",
      "2011-01-01 05:53:00           4  13904  20110101  0553           12   \n",
      "\n",
      "                    sky_condition sky_conditionFlag  visibility  \\\n",
      "2011-01-01 01:53:00        OVC049                          10.0   \n",
      "2011-01-01 02:53:00        OVC060                          10.0   \n",
      "2011-01-01 03:53:00        OVC065                          10.0   \n",
      "2011-01-01 04:53:00        BKN070                          10.0   \n",
      "2011-01-01 05:53:00        BKN065                          10.0   \n",
      "\n",
      "                    visibilityFlag wx_and_obst_to_vision ...  presschange  \\\n",
      "2011-01-01 01:53:00                                      ...                \n",
      "2011-01-01 02:53:00                                      ...          030   \n",
      "2011-01-01 03:53:00                                      ...                \n",
      "2011-01-01 04:53:00                                      ...                \n",
      "2011-01-01 05:53:00                                      ...          015   \n",
      "\n",
      "                    presschangeFlag sea_level_pressure sea_level_pressureFlag  \\\n",
      "2011-01-01 01:53:00                              30.01                          \n",
      "2011-01-01 02:53:00                              30.01                          \n",
      "2011-01-01 03:53:00                              30.03                          \n",
      "2011-01-01 04:53:00                              30.04                          \n",
      "2011-01-01 05:53:00                              30.06                          \n",
      "\n",
      "                    record_type hourly_precip hourly_precipFlag altimeter  \\\n",
      "2011-01-01 01:53:00          AA                                             \n",
      "2011-01-01 02:53:00          AA                                             \n",
      "2011-01-01 03:53:00          AA                                             \n",
      "2011-01-01 04:53:00          AA                                             \n",
      "2011-01-01 05:53:00          AA                                             \n",
      "\n",
      "                    altimeterFlag junk  \n",
      "2011-01-01 01:53:00         30.02       \n",
      "2011-01-01 02:53:00         30.02       \n",
      "2011-01-01 03:53:00         30.04       \n",
      "2011-01-01 04:53:00         30.04       \n",
      "2011-01-01 05:53:00         30.06       \n",
      "\n",
      "[5 rows x 45 columns]\n"
     ]
    }
   ],
   "source": [
    "# Convert the date column to string: df_dropped['date']\n",
    "df_dropped['date'] = df_dropped['date'].astype(str)\n",
    "\n",
    "# Pad leading zeros to the Time column: df_dropped['Time']\n",
    "df_dropped['Time'] = df_dropped['Time'].apply(lambda x:'{:0>4}'.format(x))\n",
    "\n",
    "# Concatenate the new date and Time columns: date_string\n",
    "date_string = df_dropped['date'] + df_dropped['Time']\n",
    "\n",
    "# Convert the date_string Series to datetime: date_times\n",
    "date_times = pd.to_datetime(date_string, format='%Y%m%d%H%M')\n",
    "\n",
    "# Set the index to be the new date_times container: df_clean\n",
    "df_clean = df_dropped.set_index(date_times)\n",
    "\n",
    "# Print the output of df_clean.head()\n",
    "print(df_clean.head())"
   ]
  },
  {
   "cell_type": "code",
   "execution_count": null,
   "metadata": {},
   "outputs": [],
   "source": []
  }
 ],
 "metadata": {
  "kernelspec": {
   "display_name": "Python 2",
   "language": "python",
   "name": "python2"
  },
  "language_info": {
   "codemirror_mode": {
    "name": "ipython",
    "version": 2
   },
   "file_extension": ".py",
   "mimetype": "text/x-python",
   "name": "python",
   "nbconvert_exporter": "python",
   "pygments_lexer": "ipython2",
   "version": "2.7.15"
  }
 },
 "nbformat": 4,
 "nbformat_minor": 2
}
