{
 "cells": [
  {
   "cell_type": "markdown",
   "metadata": {},
   "source": [
    "# Reading in a data file\n",
    "\n",
    "Now that you have identified the method to use to read the data, let's try to read one file. The problem with real data such as this is that the files are almost never formatted in a convenient way. In this exercise, there are several problems to overcome in reading the file. First, there is no header, and thus the columns don't have labels. There is also no obvious index column, since none of the data columns contain a full date or time.\n",
    "\n",
    "Your job is to read the file into a DataFrame using the default arguments. After inspecting it, you will re-read the file specifying that there are no headers supplied.\n",
    "\n",
    "The CSV file has been provided for you as `'data.csv'`."
   ]
  },
  {
   "cell_type": "code",
   "execution_count": 2,
   "metadata": {},
   "outputs": [
    {
     "name": "stdout",
     "output_type": "stream",
     "text": [
      "  13904  20110101  0053  12  OVC045     10.00  .1  .2  .3  51  .4  10.6  .5  38  .6  3.1  .7  15  .8   -9.4  .9   24  .10 15.1  .11  360  .12  .13  .14  29.42  .15  .16  .17  .18  .19  29.95  .20  AA  .21  .22  .23 29.95.1  .24\n",
      "0  13904  20110101   153  12  OVC049     10.00   ...                                                                                                                                                                               \n",
      "1  13904  20110101   253  12  OVC060     10.00   ...                                                                                                                                                                               \n",
      "2  13904  20110101   353  12  OVC065     10.00   ...                                                                                                                                                                               \n",
      "3  13904  20110101   453  12  BKN070     10.00   ...                                                                                                                                                                               \n",
      "4  13904  20110101   553  12  BKN065     10.00   ...                                                                                                                                                                               \n"
     ]
    }
   ],
   "source": [
    "# Import pandas\n",
    "# NOTE: I was not able to obtain the full csv file\n",
    "import pandas as pd\n",
    "\n",
    "\n",
    "# Read in the data file: df\n",
    "df = pd.read_csv('data.csv')\n",
    "\n",
    "# Print the output of df.head()\n",
    "print(df.head())\n",
    "\n",
    "# Read in the data file with header=None: df_headers\n",
    "df_headers = pd.read_csv('data.csv', header=None)"
   ]
  },
  {
   "cell_type": "code",
   "execution_count": null,
   "metadata": {},
   "outputs": [],
   "source": []
  }
 ],
 "metadata": {
  "kernelspec": {
   "display_name": "Python 2",
   "language": "python",
   "name": "python2"
  },
  "language_info": {
   "codemirror_mode": {
    "name": "ipython",
    "version": 2
   },
   "file_extension": ".py",
   "mimetype": "text/x-python",
   "name": "python",
   "nbconvert_exporter": "python",
   "pygments_lexer": "ipython2",
   "version": "2.7.10"
  }
 },
 "nbformat": 4,
 "nbformat_minor": 2
}
