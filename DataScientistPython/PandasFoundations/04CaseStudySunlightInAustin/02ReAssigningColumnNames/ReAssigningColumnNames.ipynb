{
 "cells": [
  {
   "cell_type": "markdown",
   "metadata": {},
   "source": [
    "# Re-assigning column names\n",
    "\n",
    "After the initial step of reading in the data, the next step is to clean and tidy it so that it is easier to work with.\n",
    "\n",
    "In this exercise, you will begin this cleaning process by re-assigning column names and dropping unnecessary columns.\n",
    "\n",
    "pandas has been imported in the workspace as `pd`, and the file `NOAA_QCLCD_2011_hourly_13904.txt` has been parsed and loaded into a DataFrame `df`. The comma separated string of column names, `column_labels`, and list of columns to drop, `list_to_drop`, have also been loaded for you."
   ]
  },
  {
   "cell_type": "code",
   "execution_count": 2,
   "metadata": {},
   "outputs": [],
   "source": [
    "# Import pandas\n",
    "import pandas as pd\n",
    "\n",
    "\n",
    "# Read in the data file: df\n",
    "df = pd.read_csv('data.csv')\n",
    "\n",
    "column_labels = 'Wban,date,Time,StationType,sky_condition,sky_conditionFlag,visibility,visibilityFlag,wx_and_obst_to_vision,wx_and_obst_to_visionFlag,dry_bulb_faren,dry_bulb_farenFlag,dry_bulb_cel,dry_bulb_celFlag,wet_bulb_faren,wet_bulb_farenFlag,wet_bulb_cel,wet_bulb_celFlag,dew_point_faren,dew_point_farenFlag,dew_point_cel,dew_point_celFlag,relative_humidity,relative_humidityFlag,wind_speed,wind_speedFlag,wind_direction,wind_directionFlag,value_for_wind_character,value_for_wind_characterFlag,station_pressure,station_pressureFlag,pressure_tendency,pressure_tendencyFlag,presschange,presschangeFlag,sea_level_pressure,sea_level_pressureFlag,record_type,hourly_precip,hourly_precipFlag,altimeter,altimeterFlag,junk'\n",
    "list_to_drop = ['sky_conditionFlag',\n",
    " 'visibilityFlag',\n",
    " 'wx_and_obst_to_vision',\n",
    " 'wx_and_obst_to_visionFlag',\n",
    " 'dry_bulb_farenFlag',\n",
    " 'dry_bulb_celFlag',\n",
    " 'wet_bulb_farenFlag',\n",
    " 'wet_bulb_celFlag',\n",
    " 'dew_point_farenFlag',\n",
    " 'dew_point_celFlag',\n",
    " 'relative_humidityFlag',\n",
    " 'wind_speedFlag',\n",
    " 'wind_directionFlag',\n",
    " 'value_for_wind_character',\n",
    " 'value_for_wind_characterFlag',\n",
    " 'station_pressureFlag',\n",
    " 'pressure_tendencyFlag',\n",
    " 'pressure_tendency',\n",
    " 'presschange',\n",
    " 'presschangeFlag',\n",
    " 'sea_level_pressureFlag',\n",
    " 'hourly_precip',\n",
    " 'hourly_precipFlag',\n",
    " 'altimeter',\n",
    " 'record_type',\n",
    " 'altimeterFlag',\n",
    " 'junk']"
   ]
  },
  {
   "cell_type": "code",
   "execution_count": 4,
   "metadata": {},
   "outputs": [
    {
     "name": "stdout",
     "output_type": "stream",
     "text": [
      "    Wban      date  Time  StationType sky_condition  visibility  \\\n",
      "0  13904  20110101   153           12        OVC049        10.0   \n",
      "1  13904  20110101   253           12        OVC060        10.0   \n",
      "2  13904  20110101   353           12        OVC065        10.0   \n",
      "3  13904  20110101   453           12        BKN070        10.0   \n",
      "4  13904  20110101   553           12        BKN065        10.0   \n",
      "\n",
      "  dry_bulb_faren dry_bulb_cel wet_bulb_faren wet_bulb_cel dew_point_faren  \\\n",
      "0             51         10.6             37          3.0              14   \n",
      "1             51         10.6             37          2.9              13   \n",
      "2             50         10.0             38          3.1              17   \n",
      "3             50         10.0             37          2.8              15   \n",
      "4             49          9.4             37          2.8              17   \n",
      "\n",
      "  dew_point_cel relative_humidity wind_speed wind_direction station_pressure  \\\n",
      "0         -10.0                23         10            340            29.49   \n",
      "1         -10.6                22         15            010            29.49   \n",
      "2          -8.3                27          7            350            29.51   \n",
      "3          -9.4                25         11            020            29.51   \n",
      "4          -8.3                28          6            010            29.53   \n",
      "\n",
      "  sea_level_pressure  \n",
      "0              30.01  \n",
      "1              30.01  \n",
      "2              30.03  \n",
      "3              30.04  \n",
      "4              30.06  \n"
     ]
    }
   ],
   "source": [
    "# Split on the comma to create a list: column_labels_list\n",
    "column_labels_list = column_labels.split(',')\n",
    "\n",
    "# Assign the new column labels to the DataFrame: df.columns\n",
    "df.columns = column_labels_list\n",
    "\n",
    "# Remove the appropriate columns: df_dropped\n",
    "df_dropped = df.drop(list_to_drop, axis='columns')\n",
    "\n",
    "# Print the output of df_dropped.head()\n",
    "print(df_dropped.head())\n"
   ]
  },
  {
   "cell_type": "code",
   "execution_count": null,
   "metadata": {},
   "outputs": [],
   "source": []
  }
 ],
 "metadata": {
  "kernelspec": {
   "display_name": "Python 2",
   "language": "python",
   "name": "python2"
  },
  "language_info": {
   "codemirror_mode": {
    "name": "ipython",
    "version": 2
   },
   "file_extension": ".py",
   "mimetype": "text/x-python",
   "name": "python",
   "nbconvert_exporter": "python",
   "pygments_lexer": "ipython2",
   "version": "2.7.15"
  }
 },
 "nbformat": 4,
 "nbformat_minor": 2
}
