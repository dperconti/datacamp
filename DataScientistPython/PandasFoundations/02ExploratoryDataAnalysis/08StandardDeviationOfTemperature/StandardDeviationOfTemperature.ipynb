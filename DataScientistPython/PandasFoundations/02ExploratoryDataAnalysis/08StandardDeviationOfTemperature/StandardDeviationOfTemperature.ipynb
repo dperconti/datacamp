{
 "cells": [
  {
   "cell_type": "markdown",
   "metadata": {},
   "source": [
    "# Standard deviation of temperature\n",
    "\n",
    "Let's use the mean and standard deviation to explore differences in temperature distributions in Pittsburgh in 2013. The data has been obtained from [Weather Underground](https://www.wunderground.com/history/).\n",
    "\n",
    "In this exercise, you're going to compare the distribution of daily temperatures in January and March. You'll compute the mean and standard deviation for these two months. You will notice that while the mean values are similar, the standard deviations are quite different, meaning that one month had a larger fluctuation in temperature than the other.\n",
    "\n",
    "The DataFrames have been pre-loaded for you as `january`, which contains the January data, and `march`, which contains the March data."
   ]
  },
  {
   "cell_type": "code",
   "execution_count": 14,
   "metadata": {},
   "outputs": [],
   "source": [
    "import matplotlib.pyplot as plt\n",
    "import pandas as pd\n",
    "import numpy as np\n",
    "\n",
    "march = pd.read_csv('./march.csv')\n",
    "january = pd.read_csv('./january.csv')"
   ]
  },
  {
   "cell_type": "code",
   "execution_count": 19,
   "metadata": {},
   "outputs": [
    {
     "name": "stdout",
     "output_type": "stream",
     "text": [
      "(Temperature    32.354839\n",
      "dtype: float64, Temperature    35.0\n",
      "dtype: float64)\n",
      "(Temperature    13.583196\n",
      "dtype: float64, Temperature    7.478859\n",
      "dtype: float64)\n"
     ]
    }
   ],
   "source": [
    "# Print the mean of the January and March data\n",
    "print(january.mean(), march.mean())\n",
    "\n",
    "# Print the standard deviation of the January and March data\n",
    "print(january.std(), march.std())"
   ]
  },
  {
   "cell_type": "code",
   "execution_count": null,
   "metadata": {},
   "outputs": [],
   "source": []
  }
 ],
 "metadata": {
  "kernelspec": {
   "display_name": "Python 2",
   "language": "python",
   "name": "python2"
  },
  "language_info": {
   "codemirror_mode": {
    "name": "ipython",
    "version": 2
   },
   "file_extension": ".py",
   "mimetype": "text/x-python",
   "name": "python",
   "nbconvert_exporter": "python",
   "pygments_lexer": "ipython2",
   "version": "2.7.10"
  }
 },
 "nbformat": 4,
 "nbformat_minor": 2
}
